{
 "cells": [
  {
   "cell_type": "code",
   "execution_count": 1,
   "id": "adbe97c8",
   "metadata": {},
   "outputs": [],
   "source": [
    "import pandas as pd\n",
    "import numpy as np\n",
    "import seaborn as sns\n",
    "import matplotlib.pyplot as plt"
   ]
  },
  {
   "cell_type": "code",
   "execution_count": 2,
   "id": "6065ab6b",
   "metadata": {},
   "outputs": [],
   "source": [
    "df=pd.read_csv('newegg_dell_preprocessed_data_with_url.csv')"
   ]
  },
  {
   "cell_type": "code",
   "execution_count": 3,
   "id": "9badd08c",
   "metadata": {},
   "outputs": [
    {
     "data": {
      "text/plain": [
       "(414, 15)"
      ]
     },
     "execution_count": 3,
     "metadata": {},
     "output_type": "execute_result"
    }
   ],
   "source": [
    "df.shape"
   ]
  },
  {
   "cell_type": "code",
   "execution_count": 4,
   "id": "11630d11",
   "metadata": {},
   "outputs": [
    {
     "data": {
      "text/html": [
       "<div>\n",
       "<style scoped>\n",
       "    .dataframe tbody tr th:only-of-type {\n",
       "        vertical-align: middle;\n",
       "    }\n",
       "\n",
       "    .dataframe tbody tr th {\n",
       "        vertical-align: top;\n",
       "    }\n",
       "\n",
       "    .dataframe thead th {\n",
       "        text-align: right;\n",
       "    }\n",
       "</style>\n",
       "<table border=\"1\" class=\"dataframe\">\n",
       "  <thead>\n",
       "    <tr style=\"text-align: right;\">\n",
       "      <th></th>\n",
       "      <th>Unnamed: 0</th>\n",
       "      <th>description</th>\n",
       "      <th>price</th>\n",
       "      <th>url</th>\n",
       "      <th>condition</th>\n",
       "      <th>Brand</th>\n",
       "      <th>Processor</th>\n",
       "      <th>Storage</th>\n",
       "      <th>Touchscreen</th>\n",
       "      <th>HDMI</th>\n",
       "      <th>Chromebook</th>\n",
       "      <th>OS</th>\n",
       "      <th>storage</th>\n",
       "      <th>RAM</th>\n",
       "      <th>screensize</th>\n",
       "    </tr>\n",
       "  </thead>\n",
       "  <tbody>\n",
       "    <tr>\n",
       "      <th>0</th>\n",
       "      <td>4</td>\n",
       "      <td>Refurbished: DELL Laptop 7480 Intel Core i5 63...</td>\n",
       "      <td>370.99</td>\n",
       "      <td>https://www.newegg.com/gray-dell-7480-workstat...</td>\n",
       "      <td>old</td>\n",
       "      <td>Dell</td>\n",
       "      <td>i5</td>\n",
       "      <td>SSD</td>\n",
       "      <td>no</td>\n",
       "      <td>no</td>\n",
       "      <td>no</td>\n",
       "      <td>windows</td>\n",
       "      <td>256</td>\n",
       "      <td>16</td>\n",
       "      <td>14.0</td>\n",
       "    </tr>\n",
       "    <tr>\n",
       "      <th>1</th>\n",
       "      <td>6</td>\n",
       "      <td>Refurbished: DELL Grade A Laptop Latitude 7280...</td>\n",
       "      <td>359.99</td>\n",
       "      <td>https://www.newegg.com/dell-latitude-7280-work...</td>\n",
       "      <td>old</td>\n",
       "      <td>Dell</td>\n",
       "      <td>i7</td>\n",
       "      <td>SSD</td>\n",
       "      <td>no</td>\n",
       "      <td>no</td>\n",
       "      <td>no</td>\n",
       "      <td>windows</td>\n",
       "      <td>256</td>\n",
       "      <td>16</td>\n",
       "      <td>12.5</td>\n",
       "    </tr>\n",
       "    <tr>\n",
       "      <th>2</th>\n",
       "      <td>7</td>\n",
       "      <td>Refurbished: Dell Latitude E5450 14  inch 1366...</td>\n",
       "      <td>289.99</td>\n",
       "      <td>https://www.newegg.com/black-dell-latitude-e54...</td>\n",
       "      <td>old</td>\n",
       "      <td>Dell</td>\n",
       "      <td>i5</td>\n",
       "      <td>SSD</td>\n",
       "      <td>no</td>\n",
       "      <td>no</td>\n",
       "      <td>no</td>\n",
       "      <td>windows</td>\n",
       "      <td>256</td>\n",
       "      <td>8</td>\n",
       "      <td>14.0</td>\n",
       "    </tr>\n",
       "    <tr>\n",
       "      <th>3</th>\n",
       "      <td>9</td>\n",
       "      <td>Refurbished: Dell Latitude E7240 12.5  inch 13...</td>\n",
       "      <td>224.99</td>\n",
       "      <td>https://www.newegg.com/black-silver-dell-latit...</td>\n",
       "      <td>old</td>\n",
       "      <td>Dell</td>\n",
       "      <td>i5</td>\n",
       "      <td>SSD</td>\n",
       "      <td>no</td>\n",
       "      <td>no</td>\n",
       "      <td>no</td>\n",
       "      <td>windows</td>\n",
       "      <td>256</td>\n",
       "      <td>8</td>\n",
       "      <td>12.5</td>\n",
       "    </tr>\n",
       "    <tr>\n",
       "      <th>4</th>\n",
       "      <td>10</td>\n",
       "      <td>Refurbished: DELL Grade A Laptop 5480 Intel Co...</td>\n",
       "      <td>310.99</td>\n",
       "      <td>https://www.newegg.com/dell-5480/p/N82E1683494...</td>\n",
       "      <td>old</td>\n",
       "      <td>Dell</td>\n",
       "      <td>i5</td>\n",
       "      <td>SSD</td>\n",
       "      <td>no</td>\n",
       "      <td>no</td>\n",
       "      <td>no</td>\n",
       "      <td>windows</td>\n",
       "      <td>256</td>\n",
       "      <td>8</td>\n",
       "      <td>14.0</td>\n",
       "    </tr>\n",
       "    <tr>\n",
       "      <th>...</th>\n",
       "      <td>...</td>\n",
       "      <td>...</td>\n",
       "      <td>...</td>\n",
       "      <td>...</td>\n",
       "      <td>...</td>\n",
       "      <td>...</td>\n",
       "      <td>...</td>\n",
       "      <td>...</td>\n",
       "      <td>...</td>\n",
       "      <td>...</td>\n",
       "      <td>...</td>\n",
       "      <td>...</td>\n",
       "      <td>...</td>\n",
       "      <td>...</td>\n",
       "      <td>...</td>\n",
       "    </tr>\n",
       "    <tr>\n",
       "      <th>409</th>\n",
       "      <td>519</td>\n",
       "      <td>DELL Laptop Latitude 7420 1V918 Intel Core i7 ...</td>\n",
       "      <td>688.99</td>\n",
       "      <td>https://www.newegg.com/dell-latitude-7420-1v91...</td>\n",
       "      <td>new</td>\n",
       "      <td>Dell</td>\n",
       "      <td>i7</td>\n",
       "      <td>SSD</td>\n",
       "      <td>no</td>\n",
       "      <td>no</td>\n",
       "      <td>no</td>\n",
       "      <td>windows</td>\n",
       "      <td>512</td>\n",
       "      <td>16</td>\n",
       "      <td>14.0</td>\n",
       "    </tr>\n",
       "    <tr>\n",
       "      <th>410</th>\n",
       "      <td>520</td>\n",
       "      <td>Dell Latitude 3320 13.3  inch Laptop i5-1135G7...</td>\n",
       "      <td>1834.99</td>\n",
       "      <td>https://www.newegg.com/p/1TS-000A-0FTR5?Item=1...</td>\n",
       "      <td>new</td>\n",
       "      <td>Dell</td>\n",
       "      <td>i5</td>\n",
       "      <td>SSD</td>\n",
       "      <td>no</td>\n",
       "      <td>no</td>\n",
       "      <td>no</td>\n",
       "      <td>windows</td>\n",
       "      <td>256</td>\n",
       "      <td>8</td>\n",
       "      <td>13.3</td>\n",
       "    </tr>\n",
       "    <tr>\n",
       "      <th>411</th>\n",
       "      <td>521</td>\n",
       "      <td>Dell Latitude 3320 13.3  inch Laptop i3-1115G4...</td>\n",
       "      <td>1743.99</td>\n",
       "      <td>https://www.newegg.com/p/1TS-000A-0FTR6?Item=1...</td>\n",
       "      <td>new</td>\n",
       "      <td>Dell</td>\n",
       "      <td>i3</td>\n",
       "      <td>SSD</td>\n",
       "      <td>no</td>\n",
       "      <td>no</td>\n",
       "      <td>no</td>\n",
       "      <td>windows</td>\n",
       "      <td>128</td>\n",
       "      <td>4</td>\n",
       "      <td>13.3</td>\n",
       "    </tr>\n",
       "    <tr>\n",
       "      <th>412</th>\n",
       "      <td>522</td>\n",
       "      <td>Dell Latitude 7320 13.3  inch Laptop i5-1145G7...</td>\n",
       "      <td>959.99</td>\n",
       "      <td>https://www.newegg.com/p/1TS-000A-0FTR9?Item=1...</td>\n",
       "      <td>new</td>\n",
       "      <td>Dell</td>\n",
       "      <td>i5</td>\n",
       "      <td>SSD</td>\n",
       "      <td>no</td>\n",
       "      <td>no</td>\n",
       "      <td>no</td>\n",
       "      <td>windows</td>\n",
       "      <td>256</td>\n",
       "      <td>16</td>\n",
       "      <td>13.3</td>\n",
       "    </tr>\n",
       "    <tr>\n",
       "      <th>413</th>\n",
       "      <td>523</td>\n",
       "      <td>Dell Latitude 5420 14  inch Laptop i7-1185 G7 ...</td>\n",
       "      <td>1819.99</td>\n",
       "      <td>https://www.newegg.com/p/1B4-0016-061X6?Item=1...</td>\n",
       "      <td>new</td>\n",
       "      <td>Dell</td>\n",
       "      <td>i7</td>\n",
       "      <td>SSD</td>\n",
       "      <td>no</td>\n",
       "      <td>no</td>\n",
       "      <td>no</td>\n",
       "      <td>windows</td>\n",
       "      <td>256</td>\n",
       "      <td>8</td>\n",
       "      <td>14.0</td>\n",
       "    </tr>\n",
       "  </tbody>\n",
       "</table>\n",
       "<p>414 rows × 15 columns</p>\n",
       "</div>"
      ],
      "text/plain": [
       "     Unnamed: 0                                        description    price  \\\n",
       "0             4  Refurbished: DELL Laptop 7480 Intel Core i5 63...   370.99   \n",
       "1             6  Refurbished: DELL Grade A Laptop Latitude 7280...   359.99   \n",
       "2             7  Refurbished: Dell Latitude E5450 14  inch 1366...   289.99   \n",
       "3             9  Refurbished: Dell Latitude E7240 12.5  inch 13...   224.99   \n",
       "4            10  Refurbished: DELL Grade A Laptop 5480 Intel Co...   310.99   \n",
       "..          ...                                                ...      ...   \n",
       "409         519  DELL Laptop Latitude 7420 1V918 Intel Core i7 ...   688.99   \n",
       "410         520  Dell Latitude 3320 13.3  inch Laptop i5-1135G7...  1834.99   \n",
       "411         521  Dell Latitude 3320 13.3  inch Laptop i3-1115G4...  1743.99   \n",
       "412         522  Dell Latitude 7320 13.3  inch Laptop i5-1145G7...   959.99   \n",
       "413         523  Dell Latitude 5420 14  inch Laptop i7-1185 G7 ...  1819.99   \n",
       "\n",
       "                                                   url condition Brand  \\\n",
       "0    https://www.newegg.com/gray-dell-7480-workstat...       old  Dell   \n",
       "1    https://www.newegg.com/dell-latitude-7280-work...       old  Dell   \n",
       "2    https://www.newegg.com/black-dell-latitude-e54...       old  Dell   \n",
       "3    https://www.newegg.com/black-silver-dell-latit...       old  Dell   \n",
       "4    https://www.newegg.com/dell-5480/p/N82E1683494...       old  Dell   \n",
       "..                                                 ...       ...   ...   \n",
       "409  https://www.newegg.com/dell-latitude-7420-1v91...       new  Dell   \n",
       "410  https://www.newegg.com/p/1TS-000A-0FTR5?Item=1...       new  Dell   \n",
       "411  https://www.newegg.com/p/1TS-000A-0FTR6?Item=1...       new  Dell   \n",
       "412  https://www.newegg.com/p/1TS-000A-0FTR9?Item=1...       new  Dell   \n",
       "413  https://www.newegg.com/p/1B4-0016-061X6?Item=1...       new  Dell   \n",
       "\n",
       "    Processor Storage Touchscreen HDMI Chromebook       OS  storage  RAM  \\\n",
       "0          i5     SSD          no   no         no  windows      256   16   \n",
       "1          i7     SSD          no   no         no  windows      256   16   \n",
       "2          i5     SSD          no   no         no  windows      256    8   \n",
       "3          i5     SSD          no   no         no  windows      256    8   \n",
       "4          i5     SSD          no   no         no  windows      256    8   \n",
       "..        ...     ...         ...  ...        ...      ...      ...  ...   \n",
       "409        i7     SSD          no   no         no  windows      512   16   \n",
       "410        i5     SSD          no   no         no  windows      256    8   \n",
       "411        i3     SSD          no   no         no  windows      128    4   \n",
       "412        i5     SSD          no   no         no  windows      256   16   \n",
       "413        i7     SSD          no   no         no  windows      256    8   \n",
       "\n",
       "     screensize  \n",
       "0          14.0  \n",
       "1          12.5  \n",
       "2          14.0  \n",
       "3          12.5  \n",
       "4          14.0  \n",
       "..          ...  \n",
       "409        14.0  \n",
       "410        13.3  \n",
       "411        13.3  \n",
       "412        13.3  \n",
       "413        14.0  \n",
       "\n",
       "[414 rows x 15 columns]"
      ]
     },
     "execution_count": 4,
     "metadata": {},
     "output_type": "execute_result"
    }
   ],
   "source": [
    "df"
   ]
  },
  {
   "cell_type": "code",
   "execution_count": 5,
   "id": "59056fe8",
   "metadata": {},
   "outputs": [],
   "source": [
    "df.drop('Unnamed: 0',axis=1,inplace=True)\n",
    "# df.drop('Unnamed: 0.1',axis=1,inplace=True)"
   ]
  },
  {
   "cell_type": "code",
   "execution_count": 6,
   "id": "2e1fc51f",
   "metadata": {},
   "outputs": [
    {
     "data": {
      "text/html": [
       "<div>\n",
       "<style scoped>\n",
       "    .dataframe tbody tr th:only-of-type {\n",
       "        vertical-align: middle;\n",
       "    }\n",
       "\n",
       "    .dataframe tbody tr th {\n",
       "        vertical-align: top;\n",
       "    }\n",
       "\n",
       "    .dataframe thead th {\n",
       "        text-align: right;\n",
       "    }\n",
       "</style>\n",
       "<table border=\"1\" class=\"dataframe\">\n",
       "  <thead>\n",
       "    <tr style=\"text-align: right;\">\n",
       "      <th></th>\n",
       "      <th>description</th>\n",
       "      <th>price</th>\n",
       "      <th>url</th>\n",
       "      <th>condition</th>\n",
       "      <th>Brand</th>\n",
       "      <th>Processor</th>\n",
       "      <th>Storage</th>\n",
       "      <th>Touchscreen</th>\n",
       "      <th>HDMI</th>\n",
       "      <th>Chromebook</th>\n",
       "      <th>OS</th>\n",
       "      <th>storage</th>\n",
       "      <th>RAM</th>\n",
       "      <th>screensize</th>\n",
       "    </tr>\n",
       "  </thead>\n",
       "  <tbody>\n",
       "    <tr>\n",
       "      <th>0</th>\n",
       "      <td>Refurbished: DELL Laptop 7480 Intel Core i5 63...</td>\n",
       "      <td>370.99</td>\n",
       "      <td>https://www.newegg.com/gray-dell-7480-workstat...</td>\n",
       "      <td>old</td>\n",
       "      <td>Dell</td>\n",
       "      <td>i5</td>\n",
       "      <td>SSD</td>\n",
       "      <td>no</td>\n",
       "      <td>no</td>\n",
       "      <td>no</td>\n",
       "      <td>windows</td>\n",
       "      <td>256</td>\n",
       "      <td>16</td>\n",
       "      <td>14.0</td>\n",
       "    </tr>\n",
       "    <tr>\n",
       "      <th>1</th>\n",
       "      <td>Refurbished: DELL Grade A Laptop Latitude 7280...</td>\n",
       "      <td>359.99</td>\n",
       "      <td>https://www.newegg.com/dell-latitude-7280-work...</td>\n",
       "      <td>old</td>\n",
       "      <td>Dell</td>\n",
       "      <td>i7</td>\n",
       "      <td>SSD</td>\n",
       "      <td>no</td>\n",
       "      <td>no</td>\n",
       "      <td>no</td>\n",
       "      <td>windows</td>\n",
       "      <td>256</td>\n",
       "      <td>16</td>\n",
       "      <td>12.5</td>\n",
       "    </tr>\n",
       "    <tr>\n",
       "      <th>2</th>\n",
       "      <td>Refurbished: Dell Latitude E5450 14  inch 1366...</td>\n",
       "      <td>289.99</td>\n",
       "      <td>https://www.newegg.com/black-dell-latitude-e54...</td>\n",
       "      <td>old</td>\n",
       "      <td>Dell</td>\n",
       "      <td>i5</td>\n",
       "      <td>SSD</td>\n",
       "      <td>no</td>\n",
       "      <td>no</td>\n",
       "      <td>no</td>\n",
       "      <td>windows</td>\n",
       "      <td>256</td>\n",
       "      <td>8</td>\n",
       "      <td>14.0</td>\n",
       "    </tr>\n",
       "    <tr>\n",
       "      <th>3</th>\n",
       "      <td>Refurbished: Dell Latitude E7240 12.5  inch 13...</td>\n",
       "      <td>224.99</td>\n",
       "      <td>https://www.newegg.com/black-silver-dell-latit...</td>\n",
       "      <td>old</td>\n",
       "      <td>Dell</td>\n",
       "      <td>i5</td>\n",
       "      <td>SSD</td>\n",
       "      <td>no</td>\n",
       "      <td>no</td>\n",
       "      <td>no</td>\n",
       "      <td>windows</td>\n",
       "      <td>256</td>\n",
       "      <td>8</td>\n",
       "      <td>12.5</td>\n",
       "    </tr>\n",
       "    <tr>\n",
       "      <th>4</th>\n",
       "      <td>Refurbished: DELL Grade A Laptop 5480 Intel Co...</td>\n",
       "      <td>310.99</td>\n",
       "      <td>https://www.newegg.com/dell-5480/p/N82E1683494...</td>\n",
       "      <td>old</td>\n",
       "      <td>Dell</td>\n",
       "      <td>i5</td>\n",
       "      <td>SSD</td>\n",
       "      <td>no</td>\n",
       "      <td>no</td>\n",
       "      <td>no</td>\n",
       "      <td>windows</td>\n",
       "      <td>256</td>\n",
       "      <td>8</td>\n",
       "      <td>14.0</td>\n",
       "    </tr>\n",
       "    <tr>\n",
       "      <th>...</th>\n",
       "      <td>...</td>\n",
       "      <td>...</td>\n",
       "      <td>...</td>\n",
       "      <td>...</td>\n",
       "      <td>...</td>\n",
       "      <td>...</td>\n",
       "      <td>...</td>\n",
       "      <td>...</td>\n",
       "      <td>...</td>\n",
       "      <td>...</td>\n",
       "      <td>...</td>\n",
       "      <td>...</td>\n",
       "      <td>...</td>\n",
       "      <td>...</td>\n",
       "    </tr>\n",
       "    <tr>\n",
       "      <th>409</th>\n",
       "      <td>DELL Laptop Latitude 7420 1V918 Intel Core i7 ...</td>\n",
       "      <td>688.99</td>\n",
       "      <td>https://www.newegg.com/dell-latitude-7420-1v91...</td>\n",
       "      <td>new</td>\n",
       "      <td>Dell</td>\n",
       "      <td>i7</td>\n",
       "      <td>SSD</td>\n",
       "      <td>no</td>\n",
       "      <td>no</td>\n",
       "      <td>no</td>\n",
       "      <td>windows</td>\n",
       "      <td>512</td>\n",
       "      <td>16</td>\n",
       "      <td>14.0</td>\n",
       "    </tr>\n",
       "    <tr>\n",
       "      <th>410</th>\n",
       "      <td>Dell Latitude 3320 13.3  inch Laptop i5-1135G7...</td>\n",
       "      <td>1834.99</td>\n",
       "      <td>https://www.newegg.com/p/1TS-000A-0FTR5?Item=1...</td>\n",
       "      <td>new</td>\n",
       "      <td>Dell</td>\n",
       "      <td>i5</td>\n",
       "      <td>SSD</td>\n",
       "      <td>no</td>\n",
       "      <td>no</td>\n",
       "      <td>no</td>\n",
       "      <td>windows</td>\n",
       "      <td>256</td>\n",
       "      <td>8</td>\n",
       "      <td>13.3</td>\n",
       "    </tr>\n",
       "    <tr>\n",
       "      <th>411</th>\n",
       "      <td>Dell Latitude 3320 13.3  inch Laptop i3-1115G4...</td>\n",
       "      <td>1743.99</td>\n",
       "      <td>https://www.newegg.com/p/1TS-000A-0FTR6?Item=1...</td>\n",
       "      <td>new</td>\n",
       "      <td>Dell</td>\n",
       "      <td>i3</td>\n",
       "      <td>SSD</td>\n",
       "      <td>no</td>\n",
       "      <td>no</td>\n",
       "      <td>no</td>\n",
       "      <td>windows</td>\n",
       "      <td>128</td>\n",
       "      <td>4</td>\n",
       "      <td>13.3</td>\n",
       "    </tr>\n",
       "    <tr>\n",
       "      <th>412</th>\n",
       "      <td>Dell Latitude 7320 13.3  inch Laptop i5-1145G7...</td>\n",
       "      <td>959.99</td>\n",
       "      <td>https://www.newegg.com/p/1TS-000A-0FTR9?Item=1...</td>\n",
       "      <td>new</td>\n",
       "      <td>Dell</td>\n",
       "      <td>i5</td>\n",
       "      <td>SSD</td>\n",
       "      <td>no</td>\n",
       "      <td>no</td>\n",
       "      <td>no</td>\n",
       "      <td>windows</td>\n",
       "      <td>256</td>\n",
       "      <td>16</td>\n",
       "      <td>13.3</td>\n",
       "    </tr>\n",
       "    <tr>\n",
       "      <th>413</th>\n",
       "      <td>Dell Latitude 5420 14  inch Laptop i7-1185 G7 ...</td>\n",
       "      <td>1819.99</td>\n",
       "      <td>https://www.newegg.com/p/1B4-0016-061X6?Item=1...</td>\n",
       "      <td>new</td>\n",
       "      <td>Dell</td>\n",
       "      <td>i7</td>\n",
       "      <td>SSD</td>\n",
       "      <td>no</td>\n",
       "      <td>no</td>\n",
       "      <td>no</td>\n",
       "      <td>windows</td>\n",
       "      <td>256</td>\n",
       "      <td>8</td>\n",
       "      <td>14.0</td>\n",
       "    </tr>\n",
       "  </tbody>\n",
       "</table>\n",
       "<p>414 rows × 14 columns</p>\n",
       "</div>"
      ],
      "text/plain": [
       "                                           description    price  \\\n",
       "0    Refurbished: DELL Laptop 7480 Intel Core i5 63...   370.99   \n",
       "1    Refurbished: DELL Grade A Laptop Latitude 7280...   359.99   \n",
       "2    Refurbished: Dell Latitude E5450 14  inch 1366...   289.99   \n",
       "3    Refurbished: Dell Latitude E7240 12.5  inch 13...   224.99   \n",
       "4    Refurbished: DELL Grade A Laptop 5480 Intel Co...   310.99   \n",
       "..                                                 ...      ...   \n",
       "409  DELL Laptop Latitude 7420 1V918 Intel Core i7 ...   688.99   \n",
       "410  Dell Latitude 3320 13.3  inch Laptop i5-1135G7...  1834.99   \n",
       "411  Dell Latitude 3320 13.3  inch Laptop i3-1115G4...  1743.99   \n",
       "412  Dell Latitude 7320 13.3  inch Laptop i5-1145G7...   959.99   \n",
       "413  Dell Latitude 5420 14  inch Laptop i7-1185 G7 ...  1819.99   \n",
       "\n",
       "                                                   url condition Brand  \\\n",
       "0    https://www.newegg.com/gray-dell-7480-workstat...       old  Dell   \n",
       "1    https://www.newegg.com/dell-latitude-7280-work...       old  Dell   \n",
       "2    https://www.newegg.com/black-dell-latitude-e54...       old  Dell   \n",
       "3    https://www.newegg.com/black-silver-dell-latit...       old  Dell   \n",
       "4    https://www.newegg.com/dell-5480/p/N82E1683494...       old  Dell   \n",
       "..                                                 ...       ...   ...   \n",
       "409  https://www.newegg.com/dell-latitude-7420-1v91...       new  Dell   \n",
       "410  https://www.newegg.com/p/1TS-000A-0FTR5?Item=1...       new  Dell   \n",
       "411  https://www.newegg.com/p/1TS-000A-0FTR6?Item=1...       new  Dell   \n",
       "412  https://www.newegg.com/p/1TS-000A-0FTR9?Item=1...       new  Dell   \n",
       "413  https://www.newegg.com/p/1B4-0016-061X6?Item=1...       new  Dell   \n",
       "\n",
       "    Processor Storage Touchscreen HDMI Chromebook       OS  storage  RAM  \\\n",
       "0          i5     SSD          no   no         no  windows      256   16   \n",
       "1          i7     SSD          no   no         no  windows      256   16   \n",
       "2          i5     SSD          no   no         no  windows      256    8   \n",
       "3          i5     SSD          no   no         no  windows      256    8   \n",
       "4          i5     SSD          no   no         no  windows      256    8   \n",
       "..        ...     ...         ...  ...        ...      ...      ...  ...   \n",
       "409        i7     SSD          no   no         no  windows      512   16   \n",
       "410        i5     SSD          no   no         no  windows      256    8   \n",
       "411        i3     SSD          no   no         no  windows      128    4   \n",
       "412        i5     SSD          no   no         no  windows      256   16   \n",
       "413        i7     SSD          no   no         no  windows      256    8   \n",
       "\n",
       "     screensize  \n",
       "0          14.0  \n",
       "1          12.5  \n",
       "2          14.0  \n",
       "3          12.5  \n",
       "4          14.0  \n",
       "..          ...  \n",
       "409        14.0  \n",
       "410        13.3  \n",
       "411        13.3  \n",
       "412        13.3  \n",
       "413        14.0  \n",
       "\n",
       "[414 rows x 14 columns]"
      ]
     },
     "execution_count": 6,
     "metadata": {},
     "output_type": "execute_result"
    }
   ],
   "source": [
    "df"
   ]
  },
  {
   "cell_type": "code",
   "execution_count": 7,
   "id": "05a3f59f",
   "metadata": {},
   "outputs": [],
   "source": [
    "from sklearn.preprocessing import LabelEncoder\n",
    "def encoding(feature):\n",
    "    df[feature+'_name_encoded'] = LabelEncoder().fit_transform(df[feature])\n",
    "features = ['condition','Processor','Storage','Touchscreen','HDMI','Chromebook','OS']"
   ]
  },
  {
   "cell_type": "code",
   "execution_count": 8,
   "id": "e690b34e",
   "metadata": {},
   "outputs": [],
   "source": [
    "for i in features:\n",
    "    encoding(i)"
   ]
  },
  {
   "cell_type": "code",
   "execution_count": 9,
   "id": "b4b245b2",
   "metadata": {},
   "outputs": [
    {
     "data": {
      "text/plain": [
       "Index(['description', 'price', 'url', 'condition', 'Brand', 'Processor',\n",
       "       'Storage', 'Touchscreen', 'HDMI', 'Chromebook', 'OS', 'storage', 'RAM',\n",
       "       'screensize', 'condition_name_encoded', 'Processor_name_encoded',\n",
       "       'Storage_name_encoded', 'Touchscreen_name_encoded', 'HDMI_name_encoded',\n",
       "       'Chromebook_name_encoded', 'OS_name_encoded'],\n",
       "      dtype='object')"
      ]
     },
     "execution_count": 9,
     "metadata": {},
     "output_type": "execute_result"
    }
   ],
   "source": [
    "df.columns"
   ]
  },
  {
   "cell_type": "code",
   "execution_count": 10,
   "id": "cb0c8c4a",
   "metadata": {},
   "outputs": [],
   "source": [
    "df_model = df[['price','storage','RAM','screensize', 'condition_name_encoded', 'Processor_name_encoded','Storage_name_encoded', 'Touchscreen_name_encoded', 'HDMI_name_encoded','Chromebook_name_encoded', 'OS_name_encoded']]"
   ]
  },
  {
   "cell_type": "code",
   "execution_count": null,
   "id": "18d580c0",
   "metadata": {},
   "outputs": [],
   "source": []
  },
  {
   "cell_type": "code",
   "execution_count": 11,
   "id": "50038582",
   "metadata": {},
   "outputs": [],
   "source": [
    "#testing LR model\n",
    "X = df_model.drop('price',axis=1)\n",
    "Y = df_model['price'].values"
   ]
  },
  {
   "cell_type": "code",
   "execution_count": 12,
   "id": "1344d879",
   "metadata": {},
   "outputs": [],
   "source": [
    "from sklearn.model_selection import train_test_split\n",
    "X_train,X_test,Y_train,Y_test = train_test_split(X,Y,test_size=0.2,random_state=42)"
   ]
  },
  {
   "cell_type": "code",
   "execution_count": 13,
   "id": "015aa240",
   "metadata": {},
   "outputs": [
    {
     "data": {
      "text/plain": [
       "LinearRegression()"
      ]
     },
     "execution_count": 13,
     "metadata": {},
     "output_type": "execute_result"
    }
   ],
   "source": [
    "from sklearn.linear_model import LinearRegression,Lasso\n",
    "from sklearn.model_selection import cross_val_score\n",
    "\n",
    "lm = LinearRegression()\n",
    "lm.fit(X_train,Y_train)"
   ]
  },
  {
   "cell_type": "code",
   "execution_count": 14,
   "id": "563a6c04",
   "metadata": {},
   "outputs": [
    {
     "data": {
      "text/plain": [
       "0.6174452529348033"
      ]
     },
     "execution_count": 14,
     "metadata": {},
     "output_type": "execute_result"
    }
   ],
   "source": [
    "lm.score(X_test,Y_test)"
   ]
  },
  {
   "cell_type": "markdown",
   "id": "1b90248a",
   "metadata": {},
   "source": [
    "# creating Model"
   ]
  },
  {
   "cell_type": "code",
   "execution_count": 15,
   "id": "75aa0478",
   "metadata": {},
   "outputs": [],
   "source": [
    "x = df_model.drop('price',axis=1)\n",
    "y = df_model['price'].values"
   ]
  },
  {
   "cell_type": "code",
   "execution_count": 16,
   "id": "5447e93b",
   "metadata": {},
   "outputs": [],
   "source": [
    "from sklearn.model_selection import train_test_split\n",
    "x_train,x_test,y_train,y_test = train_test_split(x,y,test_size=0.2,random_state=42)"
   ]
  },
  {
   "cell_type": "code",
   "execution_count": 17,
   "id": "8165b9e3",
   "metadata": {},
   "outputs": [],
   "source": [
    "import pandas as pd\n",
    "import numpy as np\n",
    "import matplotlib.pyplot as plt\n",
    "import numpy as np\n",
    "import pandas as pd\n",
    "import matplotlib.pyplot as plt\n",
    "import warnings\n",
    "from sklearn.preprocessing import MinMaxScaler\n",
    "from sklearn.feature_selection import RFE\n",
    "from sklearn.ensemble import ExtraTreesRegressor\n",
    "from sklearn.linear_model import LinearRegression\n",
    "from sklearn.linear_model import Ridge\n",
    "from sklearn.linear_model import Lasso\n",
    "from sklearn.linear_model import ElasticNet\n",
    "from sklearn.ensemble import BaggingRegressor\n",
    "from sklearn.ensemble import RandomForestRegressor\n",
    "from sklearn.tree import DecisionTreeRegressor\n",
    "from sklearn.neighbors import KNeighborsRegressor\n",
    "from sklearn.svm import SVR\n",
    "from xgboost import XGBRegressor\n",
    "from sklearn import ensemble\n",
    "from sklearn.model_selection import cross_validate, cross_val_score\n",
    "from sklearn.model_selection import StratifiedKFold,KFold,train_test_split\n",
    "from sklearn.metrics import explained_variance_score\n",
    "from sklearn.metrics import mean_squared_error\n",
    "from sklearn.metrics import mean_absolute_error\n",
    "import matplotlib.pyplot as plt\n",
    "import numpy as np\n",
    "from sklearn import datasets, ensemble\n",
    "from sklearn.inspection import permutation_importance\n",
    "from sklearn.metrics import mean_squared_error\n",
    "from sklearn.model_selection import train_test_split\n",
    "import shap\n",
    "\n",
    "warnings.filterwarnings('ignore')"
   ]
  },
  {
   "cell_type": "code",
   "execution_count": 18,
   "id": "326d3dc0",
   "metadata": {},
   "outputs": [
    {
     "name": "stdout",
     "output_type": "stream",
     "text": [
      "LiR: 0.620222 (0.095801)\n",
      "Ridge: 0.622448 (0.071427)\n",
      "Lasso: 0.624227 (0.083703)\n",
      "ElasticNet: 0.332698 (0.018409)\n",
      "Bag_Re: 0.728117 (0.061507)\n",
      "RandomForest: 0.742895 (0.058473)\n",
      "XGBoost: 0.706038 (0.076785)\n",
      "ExtraTreesRegressor: 0.687467 (0.086034)\n",
      "KNN: 0.644732 (0.037245)\n",
      "DT: 0.708486 (0.075214)\n"
     ]
    }
   ],
   "source": [
    "num_instances = len(x)\n",
    "seed = 1234\n",
    "models = []\n",
    "models.append(('LiR', LinearRegression()))\n",
    "models.append(('Ridge', Ridge()))\n",
    "models.append(('Lasso', Lasso()))\n",
    "models.append(('ElasticNet', ElasticNet()))\n",
    "models.append(('Bag_Re', BaggingRegressor()))\n",
    "models.append(('RandomForest', RandomForestRegressor()))\n",
    "models.append(('XGBoost', XGBRegressor()))\n",
    "models.append(('ExtraTreesRegressor', ExtraTreesRegressor()))\n",
    "models.append(('KNN', KNeighborsRegressor()))\n",
    "models.append(('DT', DecisionTreeRegressor()))\n",
    "#models.append(('SVR', SVR())) ## SVR Takes a lot of time to Run\n",
    "\n",
    "# Evaluations\n",
    "results = []\n",
    "names = []\n",
    "scoring = []\n",
    "\n",
    "for name, model in models:\n",
    "    # Fit the model\n",
    "    model.fit(x_train, y_train)\n",
    "    \n",
    "    predictions = model.predict(x_test)\n",
    "    \n",
    "    # Evaluate the model\n",
    "    kfold = KFold(n_splits=5)\n",
    "    cv_results = cross_val_score(model, x_train, y_train, cv=5)\n",
    "    results.append(cv_results)\n",
    "    names.append(name)\n",
    "    msg = \"%s: %f (%f)\" % (name, cv_results.mean(), cv_results.std())\n",
    "    print(msg)"
   ]
  },
  {
   "cell_type": "code",
   "execution_count": 19,
   "id": "5afbf1a9",
   "metadata": {},
   "outputs": [
    {
     "data": {
      "image/png": "[encoded data removed]",
      "text/plain": [
       "<Figure size 432x288 with 1 Axes>"
      ]
     },
     "metadata": {
      "needs_background": "light"
     },
     "output_type": "display_data"
    }
   ],
   "source": [
    "#boxplot algorithm Comparison\n",
    "plt.rc('xtick', labelsize=10) \n",
    "plt.rc('ytick', labelsize=10) \n",
    "fig = plt.figure()\n",
    "fig.suptitle('Algorithm Comparison')\n",
    "ax = fig.add_subplot(111)\n",
    "plt.boxplot(results)\n",
    "ax.set_xticklabels(names)\n",
    "plt.rcParams[\"figure.figsize\"] = (30,8)\n",
    "plt.show()"
   ]
  },
  {
   "cell_type": "code",
   "execution_count": 20,
   "id": "9c1170d1",
   "metadata": {},
   "outputs": [],
   "source": [
    "xgb = XGBRegressor(learning_rate=0.05,\n",
    " n_estimators=100,\n",
    " max_depth=3,\n",
    " min_child_weight=3,\n",
    " gamma=0,\n",
    " subsample=0.7,\n",
    " colsample_bytree=0.8,\n",
    " nthread=4,\n",
    " scale_pos_weight=1,\n",
    " seed=27).fit(x_train, y_train)"
   ]
  },
  {
   "cell_type": "code",
   "execution_count": 21,
   "id": "02b5165d",
   "metadata": {},
   "outputs": [
    {
     "name": "stdout",
     "output_type": "stream",
     "text": [
      "XGBoost Train Accuracy :  0.810523617589586\n",
      "XGBoost Test Accuracy :  0.6839638877266763\n"
     ]
    }
   ],
   "source": [
    "print(\"XGBoost Train Accuracy : \",xgb.score(x_train, y_train))\n",
    "print(\"XGBoost Test Accuracy : \",xgb.score(x_test, y_test))"
   ]
  },
  {
   "cell_type": "code",
   "execution_count": null,
   "id": "826a7230",
   "metadata": {},
   "outputs": [],
   "source": []
  },
  {
   "cell_type": "code",
   "execution_count": 22,
   "id": "175377ac",
   "metadata": {},
   "outputs": [
    {
     "data": {
      "text/plain": [
       "ExtraTreesRegressor()"
      ]
     },
     "execution_count": 22,
     "metadata": {},
     "output_type": "execute_result"
    }
   ],
   "source": [
    "#find important features\n",
    "from sklearn.ensemble import ExtraTreesRegressor\n",
    "model=ExtraTreesRegressor()\n",
    "model.fit(X,y)"
   ]
  },
  {
   "cell_type": "code",
   "execution_count": 23,
   "id": "ff54ff6e",
   "metadata": {},
   "outputs": [
    {
     "name": "stdout",
     "output_type": "stream",
     "text": [
      "[2.56113928e-02 1.46904229e-01 3.27465305e-02 7.13445513e-01\n",
      " 4.58349555e-02 9.24418415e-03 4.45458034e-03 5.10145628e-04\n",
      " 2.96993670e-04 2.09514751e-02]\n"
     ]
    }
   ],
   "source": [
    "print(model.feature_importances_)"
   ]
  },
  {
   "cell_type": "code",
   "execution_count": 24,
   "id": "3257069b",
   "metadata": {},
   "outputs": [
    {
     "data": {
      "text/plain": [
       "<function matplotlib.pyplot.show(close=None, block=None)>"
      ]
     },
     "execution_count": 24,
     "metadata": {},
     "output_type": "execute_result"
    },
    {
     "data": {
      "image/png": "[encoded data removed]",
      "text/plain": [
       "<Figure size 2160x576 with 1 Axes>"
      ]
     },
     "metadata": {
      "needs_background": "light"
     },
     "output_type": "display_data"
    }
   ],
   "source": [
    "#plot graph of feature importance\n",
    "feat_importance = pd.Series(model.feature_importances_, index =X.columns)\n",
    "feat_importance.nlargest(7).plot(kind='barh')\n",
    "plt.show"
   ]
  },
  {
   "cell_type": "code",
   "execution_count": null,
   "id": "2eb52fe1",
   "metadata": {},
   "outputs": [],
   "source": []
  },
  {
   "cell_type": "code",
   "execution_count": null,
   "id": "4b9f804a",
   "metadata": {},
   "outputs": [],
   "source": []
  },
  {
   "cell_type": "code",
   "execution_count": 25,
   "id": "b31deddb",
   "metadata": {},
   "outputs": [],
   "source": [
    "#splitting the data\n",
    "x_train,x_test,y_train,y_test=train_test_split(X,Y,test_size=0.2,random_state=1)"
   ]
  },
  {
   "cell_type": "code",
   "execution_count": 26,
   "id": "a2d917bf",
   "metadata": {},
   "outputs": [],
   "source": [
    "import pandas as pd\n",
    "import numpy as np\n",
    "import matplotlib.pyplot as plt\n",
    "import seaborn as sns\n",
    "\n",
    "#to scale the data using z-score \n",
    "from sklearn.preprocessing import StandardScaler\n",
    "\n",
    "from sklearn.model_selection import train_test_split\n",
    "\n",
    "#algorithms to use\n",
    "from sklearn.discriminant_analysis import LinearDiscriminantAnalysis\n",
    "from sklearn.discriminant_analysis import QuadraticDiscriminantAnalysis\n",
    "from sklearn.linear_model import LogisticRegression\n",
    "from sklearn.neighbors import KNeighborsClassifier\n",
    "\n",
    "#Metrics to evaluate the model\n",
    "from sklearn import metrics\n",
    "from sklearn.metrics import confusion_matrix, classification_report, precision_recall_curve,recall_score\n",
    "from sklearn import tree\n",
    "from sklearn.tree import DecisionTreeClassifier #\n",
    "from sklearn.ensemble import BaggingClassifier # 100 Features\n",
    "from sklearn.ensemble import RandomForestClassifier # Filter Predictor and Filter on Features\n",
    "\n",
    "#for tuning the model\n",
    "from sklearn.model_selection import GridSearchCV\n",
    "\n",
    "#to ignore warnings\n",
    "import warnings\n",
    "warnings.filterwarnings(\"ignore\")"
   ]
  },
  {
   "cell_type": "code",
   "execution_count": 27,
   "id": "c8fbcd13",
   "metadata": {},
   "outputs": [],
   "source": [
    "import pandas as pd\n",
    "import numpy as np\n",
    "import matplotlib.pyplot as plt\n",
    "import numpy as np\n",
    "import pandas as pd\n",
    "import matplotlib.pyplot as plt\n",
    "import warnings\n",
    "from sklearn.preprocessing import MinMaxScaler\n",
    "from sklearn.feature_selection import RFE\n",
    "from sklearn.ensemble import ExtraTreesRegressor\n",
    "from sklearn.linear_model import LinearRegression\n",
    "from sklearn.linear_model import Ridge\n",
    "from sklearn.linear_model import Lasso\n",
    "from sklearn.linear_model import ElasticNet\n",
    "from sklearn.ensemble import BaggingRegressor\n",
    "from sklearn.ensemble import RandomForestRegressor\n",
    "from sklearn.tree import DecisionTreeRegressor\n",
    "from sklearn.neighbors import KNeighborsRegressor\n",
    "from sklearn.svm import SVR\n",
    "from xgboost import XGBRegressor\n",
    "from sklearn import ensemble\n",
    "from sklearn.model_selection import cross_validate, cross_val_score\n",
    "from sklearn.model_selection import StratifiedKFold,KFold,train_test_split\n",
    "from sklearn.metrics import explained_variance_score\n",
    "from sklearn.metrics import mean_squared_error\n",
    "from sklearn.metrics import mean_absolute_error\n",
    "import matplotlib.pyplot as plt\n",
    "import numpy as np\n",
    "from sklearn import datasets, ensemble\n",
    "from sklearn.inspection import permutation_importance\n",
    "from sklearn.metrics import mean_squared_error\n",
    "from sklearn.model_selection import train_test_split\n",
    "import shap\n",
    "\n",
    "warnings.filterwarnings('ignore')"
   ]
  },
  {
   "cell_type": "code",
   "execution_count": 28,
   "id": "0dee6918",
   "metadata": {},
   "outputs": [
    {
     "name": "stdout",
     "output_type": "stream",
     "text": [
      "LiR: 0.608435 (0.115859)\n",
      "Ridge: 0.606393 (0.099554)\n",
      "Lasso: 0.608707 (0.109337)\n",
      "ElasticNet: 0.331216 (0.060302)\n",
      "Bag_Re: 0.680802 (0.062570)\n",
      "RandomForest: 0.682588 (0.064788)\n",
      "XGBoost: 0.613625 (0.093503)\n",
      "ExtraTreesRegressor: 0.642512 (0.081070)\n",
      "KNN: 0.593869 (0.039394)\n",
      "DT: 0.611960 (0.080746)\n"
     ]
    }
   ],
   "source": [
    "num_instances = len(X)\n",
    "seed = 1234\n",
    "models = []\n",
    "models.append(('LiR', LinearRegression()))\n",
    "models.append(('Ridge', Ridge()))\n",
    "models.append(('Lasso', Lasso()))\n",
    "models.append(('ElasticNet', ElasticNet()))\n",
    "models.append(('Bag_Re', BaggingRegressor()))\n",
    "models.append(('RandomForest', RandomForestRegressor()))\n",
    "models.append(('XGBoost', XGBRegressor()))\n",
    "models.append(('ExtraTreesRegressor', ExtraTreesRegressor()))\n",
    "models.append(('KNN', KNeighborsRegressor()))\n",
    "models.append(('DT', DecisionTreeRegressor()))\n",
    "#models.append(('SVR', SVR())) ## SVR Takes a lot of time to Run\n",
    "\n",
    "# Evaluations\n",
    "results = []\n",
    "names = []\n",
    "scoring = []\n",
    "\n",
    "for name, model in models:\n",
    "    # Fit the model\n",
    "    model.fit(x_train, y_train)\n",
    "    \n",
    "    predictions = model.predict(x_test)\n",
    "    \n",
    "    # Evaluate the model\n",
    "    kfold = KFold(n_splits=5)\n",
    "    cv_results = cross_val_score(model, x_train, y_train, cv=5)\n",
    "    results.append(cv_results)\n",
    "    names.append(name)\n",
    "    msg = \"%s: %f (%f)\" % (name, cv_results.mean(), cv_results.std())\n",
    "    print(msg)"
   ]
  },
  {
   "cell_type": "code",
   "execution_count": 29,
   "id": "0e91dba6",
   "metadata": {},
   "outputs": [
    {
     "data": {
      "image/png": "[encoded data removed]",
      "text/plain": [
       "<Figure size 2160x576 with 1 Axes>"
      ]
     },
     "metadata": {
      "needs_background": "light"
     },
     "output_type": "display_data"
    }
   ],
   "source": [
    "#boxplot algorithm Comparison\n",
    "plt.rc('xtick', labelsize=10) \n",
    "plt.rc('ytick', labelsize=10)\n",
    "fig = plt.figure()\n",
    "fig.suptitle('Algorithm Comparison')\n",
    "ax = fig.add_subplot(111)\n",
    "plt.boxplot(results[1:])\n",
    "ax.set_xticklabels(names[1:])\n",
    "plt.rcParams[\"figure.figsize\"] = (15,2)\n",
    "plt.show()"
   ]
  },
  {
   "cell_type": "code",
   "execution_count": 30,
   "id": "53fb8fbd",
   "metadata": {},
   "outputs": [
    {
     "name": "stdout",
     "output_type": "stream",
     "text": [
      "The parameters combination that would give best accuracy is : \n",
      "{'colsample_bytree': 0.8, 'gamma': 0.3, 'max_depth': 3, 'min_child_weight': 5, 'n_estimators': 50, 'subsample': 0.4}\n",
      "The best accuracy achieved after parameter tuning via grid search is :  0.6861138471625295\n",
      "==================================================\n",
      "XGBoost Train Accuracy :  0.7931706781163173\n",
      "XGBoost Test Accuracy :  0.7423519226666819\n"
     ]
    }
   ],
   "source": [
    "params = {'min_child_weight':[4,5], 'gamma':[i/10.0 for i in range(3,5)],  'subsample':[i/10.0 for i in range(4,6)],\n",
    "'colsample_bytree':[i/10.0 for i in range(8,10)], 'max_depth': [3,4,5], 'n_estimators': [50,100,200]}\n",
    "\n",
    "# Initialize XGB and GridSearch\n",
    "xgb = XGBRegressor(nthread=-1)\n",
    "\n",
    "grid = GridSearchCV(xgb, params)\n",
    "grid.fit(x_train, y_train)\n",
    "\n",
    "print('The parameters combination that would give best accuracy is : ')\n",
    "print(grid.best_params_)\n",
    "print('The best accuracy achieved after parameter tuning via grid search is : ', grid.best_score_)\n",
    "print(\"=\"*50)\n",
    "print(\"XGBoost Train Accuracy : \",grid.score(x_train, y_train))\n",
    "print(\"XGBoost Test Accuracy : \",grid.score(x_test, y_test))"
   ]
  },
  {
   "cell_type": "code",
   "execution_count": null,
   "id": "7b98440a",
   "metadata": {},
   "outputs": [],
   "source": []
  }
 ],
 "metadata": {
  "kernelspec": {
   "display_name": "Python 3",
   "language": "python",
   "name": "python3"
  },
  "language_info": {
   "codemirror_mode": {
    "name": "ipython",
    "version": 3
   },
   "file_extension": ".py",
   "mimetype": "text/x-python",
   "name": "python",
   "nbconvert_exporter": "python",
   "pygments_lexer": "ipython3",
   "version": "3.8.8"
  }
 },
 "nbformat": 4,
 "nbformat_minor": 5
}
